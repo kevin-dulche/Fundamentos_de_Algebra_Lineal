{
 "cells": [
  {
   "cell_type": "code",
   "execution_count": null,
   "metadata": {},
   "outputs": [],
   "source": [
    "def graficarVectores(vecs, cols, alpha=1):\n",
    "    plt.figure()\n",
    "    plt.axvline(x=0, color=\"grey\", zorder=0)\n",
    "    plt.axhline(y=0, color=\"grey\", zorder=0)\n",
    "\n",
    "    for i in range(len(vecs)):\n",
    "        x = np.concatenate([[0,0], vecs[i]])\n",
    "        plt.quiver(\n",
    "                    [x[0]],\n",
    "                    [x[1]],\n",
    "                    [x[2]],\n",
    "                    [x[3]],\n",
    "                    angles='xy', scale_units='xy', scale=1,\n",
    "                    color=cols[i],\n",
    "                    alpha=alpha\n",
    "                    )"
   ]
  }
 ],
 "metadata": {
  "kernelspec": {
   "display_name": "Platzi-FundamentosAL",
   "language": "python",
   "name": "python3"
  },
  "language_info": {
   "name": "python",
   "version": "3.7.16"
  }
 },
 "nbformat": 4,
 "nbformat_minor": 2
}
