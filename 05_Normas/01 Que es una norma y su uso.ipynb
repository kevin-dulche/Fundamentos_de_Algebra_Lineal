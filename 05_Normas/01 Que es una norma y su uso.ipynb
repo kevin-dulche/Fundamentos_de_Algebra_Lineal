{
 "cells": [
  {
   "cell_type": "markdown",
   "metadata": {},
   "source": [
    "La norma recibe de entrada un vector y le asocia un numero no negativo.\n",
    "\n",
    "$norma(v) >= 0$\n",
    "\n",
    "$norma(v) = 0 <=> v = 0$\n",
    "\n",
    "$norma(v_r) <= norma(v_1) + norma(v_2)$\n",
    "\n",
    "$norma(a*v) = abs(a) * norma(v)$"
   ]
  },
  {
   "cell_type": "code",
   "execution_count": 1,
   "metadata": {},
   "outputs": [],
   "source": [
    "%matplotlib inline\n",
    "import numpy as np\n",
    "import matplotlib.pyplot as plt\n",
    "import seaborn as sns"
   ]
  },
  {
   "cell_type": "code",
   "execution_count": 2,
   "metadata": {},
   "outputs": [
    {
     "name": "stdout",
     "output_type": "stream",
     "text": [
      "[2 7]\n",
      "[3 5]\n"
     ]
    }
   ],
   "source": [
    "v1 = np.array([2, 7])\n",
    "v2 = np.array([3, 5])\n",
    "\n",
    "print(v1)\n",
    "print(v2)"
   ]
  },
  {
   "cell_type": "code",
   "execution_count": 3,
   "metadata": {},
   "outputs": [
    {
     "name": "stdout",
     "output_type": "stream",
     "text": [
      "[ 5 12]\n"
     ]
    }
   ],
   "source": [
    "v1v2 = v1 + v2\n",
    "print(v1v2)"
   ]
  },
  {
   "cell_type": "code",
   "execution_count": 4,
   "metadata": {},
   "outputs": [
    {
     "data": {
      "text/plain": [
       "13.0"
      ]
     },
     "execution_count": 4,
     "metadata": {},
     "output_type": "execute_result"
    }
   ],
   "source": [
    "# Calculo de la norma\n",
    "np.linalg.norm(v1v2)"
   ]
  },
  {
   "cell_type": "code",
   "execution_count": 5,
   "metadata": {},
   "outputs": [
    {
     "name": "stdout",
     "output_type": "stream",
     "text": [
      "True\n"
     ]
    }
   ],
   "source": [
    "# norma(v1v2) <= norma(v1) + norma(v2)\n",
    "norma_v1 = np.linalg.norm(v1)\n",
    "norma_v2 = np.linalg.norm(v2)\n",
    "norma_v1v2 = np.linalg.norm(v1v2)\n",
    "\n",
    "print(norma_v1v2 <= norma_v1 + norma_v2)"
   ]
  },
  {
   "cell_type": "code",
   "execution_count": 6,
   "metadata": {},
   "outputs": [
    {
     "name": "stdout",
     "output_type": "stream",
     "text": [
      "13.11106178412582\n"
     ]
    }
   ],
   "source": [
    "print(norma_v1 + norma_v2)"
   ]
  },
  {
   "cell_type": "code",
   "execution_count": 7,
   "metadata": {},
   "outputs": [],
   "source": [
    "v1 = np.array([0, 0, 2, 7])\n",
    "v2 = np.array([0, 0, 3, 5])\n",
    "\n",
    "v1_aux = np.array([v1[2], v1[3], v2[2], v2[3]])\n",
    "v1v2 = np.array([0, 0, 5, 12])"
   ]
  },
  {
   "cell_type": "code",
   "execution_count": 10,
   "metadata": {},
   "outputs": [
    {
     "data": {
      "image/png": "[encoded data removed]",
      "text/plain": [
       "<Figure size 640x480 with 1 Axes>"
      ]
     },
     "metadata": {},
     "output_type": "display_data"
    }
   ],
   "source": [
    "plt.quiver(\n",
    "    [v1[0], v1_aux[0], v1v2[0]],\n",
    "    [v1[1], v1_aux[1], v1v2[1]],\n",
    "    [v1[2], v1_aux[2], v1v2[2]],\n",
    "    [v1[3], v1_aux[3], v1v2[3]],\n",
    "    angles='xy', scale_units='xy', scale=1, color=sns.color_palette()\n",
    ")\n",
    "\n",
    "plt.xlim(-0.5, 6)\n",
    "plt.ylim(-0.5, 15)\n",
    "\n",
    "plt.show()"
   ]
  }
 ],
 "metadata": {
  "kernelspec": {
   "display_name": "Platzi-FundamentosAL",
   "language": "python",
   "name": "python3"
  },
  "language_info": {
   "codemirror_mode": {
    "name": "ipython",
    "version": 3
   },
   "file_extension": ".py",
   "mimetype": "text/x-python",
   "name": "python",
   "nbconvert_exporter": "python",
   "pygments_lexer": "ipython3",
   "version": "3.7.16"
  }
 },
 "nbformat": 4,
 "nbformat_minor": 2
}
