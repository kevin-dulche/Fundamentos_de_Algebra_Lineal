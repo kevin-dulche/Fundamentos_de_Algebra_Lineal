{
 "cells": [
  {
   "cell_type": "markdown",
   "metadata": {
    "vscode": {
     "languageId": "plaintext"
    }
   },
   "source": [
    "$\\vec{v_1}$\n",
    "\n",
    "$\\vec{v_2}$\n",
    "\n",
    "$\\vec{v_1}^T \\vec{v_2} = norma(\\vec{v_1})*norma(\\vec{v_2})*cos(angulo)$"
   ]
  },
  {
   "cell_type": "code",
   "execution_count": 1,
   "metadata": {},
   "outputs": [],
   "source": [
    "import numpy as np\n",
    "import matplotlib.pyplot as plt\n",
    "import seaborn as sns"
   ]
  },
  {
   "cell_type": "code",
   "execution_count": 2,
   "metadata": {},
   "outputs": [],
   "source": [
    "v1 = np.array([0,0,0,3])\n",
    "v2 = np.array([0,0,3,3])"
   ]
  },
  {
   "cell_type": "code",
   "execution_count": null,
   "metadata": {},
   "outputs": [
    {
     "data": {
      "image/png": "[encoded data removed]",
      "text/plain": [
       "<Figure size 640x480 with 1 Axes>"
      ]
     },
     "metadata": {},
     "output_type": "display_data"
    }
   ],
   "source": [
    "plt.xlim(-2, 6)\n",
    "plt.ylim(-2, 6)\n",
    "\n",
    "plt.quiver(\n",
    "    [v1[0], v2[0]], # x origin\n",
    "    [v1[1], v2[1]], # y origin\n",
    "    [v1[2], v2[2]], # x final\n",
    "    [v1[3], v2[3]], # y final\n",
    "    angles='xy', scale_units='xy', scale=1, color=sns.color_palette()\n",
    ")\n",
    "\n",
    "plt.show()"
   ]
  },
  {
   "cell_type": "code",
   "execution_count": 8,
   "metadata": {},
   "outputs": [
    {
     "name": "stdout",
     "output_type": "stream",
     "text": [
      "9\n"
     ]
    }
   ],
   "source": [
    "v1 = np.array([0,3])\n",
    "v2 = np.array([3,3])\n",
    "\n",
    "print(v1.T.dot(v2))"
   ]
  },
  {
   "cell_type": "code",
   "execution_count": null,
   "metadata": {},
   "outputs": [
    {
     "name": "stdout",
     "output_type": "stream",
     "text": [
      "9.0\n"
     ]
    }
   ],
   "source": [
    "norma_v1 = np.linalg.norm(v1)\n",
    "norma_v2 = np.linalg.norm(v2)\n",
    "\n",
    "print(norma_v1 * norma_v2 * np.cos(np.deg2rad(45)))"
   ]
  },
  {
   "cell_type": "code",
   "execution_count": null,
   "metadata": {},
   "outputs": [
    {
     "name": "stdout",
     "output_type": "stream",
     "text": [
      "0.7071067811865476\n"
     ]
    }
   ],
   "source": [
    "# Despejando el coseno \n",
    "cos_ = v1.T.dot(v2) / (norma_v1 * norma_v2)\n",
    "print(cos_)\n",
    "\n",
    "# Esto se usa como metrica para medir el acurracy(accuracy_score) de un modelo de machine learning (clasificacion) \n",
    "# # midiendo la similitud entre el vector de los labels reales y el vector de las predicciones del modelo\n",
    "\n",
    "# Acurracy es una metrica que mide el porcentaje de aciertos que tuvo el modelo en sus predicciones, significa que tan bueno es el modelo\n",
    "# mientras mas cercano a 1 mejor es el modelo"
   ]
  }
 ],
 "metadata": {
  "kernelspec": {
   "display_name": "Platzi-FundamentosAL",
   "language": "python",
   "name": "python3"
  },
  "language_info": {
   "codemirror_mode": {
    "name": "ipython",
    "version": 3
   },
   "file_extension": ".py",
   "mimetype": "text/x-python",
   "name": "python",
   "nbconvert_exporter": "python",
   "pygments_lexer": "ipython3",
   "version": "3.7.16"
  }
 },
 "nbformat": 4,
 "nbformat_minor": 2
}
