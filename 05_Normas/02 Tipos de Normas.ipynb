{
 "cells": [
  {
   "cell_type": "markdown",
   "metadata": {},
   "source": [
    "$L_0: \\#v_i \\neq 0$\n",
    "\n",
    "$L_1: \\sum_{i} abs(v_i)$\n",
    "\n",
    "$L_2: \\text{distancia euclidiana}$\n",
    "\n",
    "$(L_2)^2: (L_2)^2$\n",
    "\n",
    "$L_\\infty: \\text{max}  \\text{ abs}(v_i)$"
   ]
  },
  {
   "cell_type": "code",
   "execution_count": 1,
   "metadata": {},
   "outputs": [],
   "source": [
    "import numpy as np"
   ]
  },
  {
   "cell_type": "code",
   "execution_count": null,
   "metadata": {},
   "outputs": [
    {
     "name": "stdout",
     "output_type": "stream",
     "text": [
      "4.0\n"
     ]
    }
   ],
   "source": [
    "vector = np.array([1,2,0,5,6,0])\n",
    "\n",
    "print(np.linalg.norm(vector, ord=0)) # Estamos calculando la norma L0"
   ]
  },
  {
   "cell_type": "code",
   "execution_count": 4,
   "metadata": {},
   "outputs": [
    {
     "name": "stdout",
     "output_type": "stream",
     "text": [
      "5.0\n"
     ]
    }
   ],
   "source": [
    "vector = np.array([1,-1,1,-1,1])\n",
    "\n",
    "print(np.linalg.norm(vector, ord=1)) # Estamos calculando la norma L1"
   ]
  },
  {
   "cell_type": "code",
   "execution_count": null,
   "metadata": {},
   "outputs": [
    {
     "name": "stdout",
     "output_type": "stream",
     "text": [
      "1.4142135623730951\n"
     ]
    }
   ],
   "source": [
    "vector = np.array([1,1])\n",
    "\n",
    "print(np.linalg.norm(vector, ord=2)) # Estamos calculando la norma L2"
   ]
  },
  {
   "cell_type": "code",
   "execution_count": 11,
   "metadata": {},
   "outputs": [
    {
     "name": "stdout",
     "output_type": "stream",
     "text": [
      "1.4142135623730951\n"
     ]
    }
   ],
   "source": [
    "print(np.linalg.norm(vector)) # Estamos calculando la norma L2"
   ]
  },
  {
   "cell_type": "code",
   "execution_count": 12,
   "metadata": {},
   "outputs": [
    {
     "name": "stdout",
     "output_type": "stream",
     "text": [
      "1.4142135623730951\n"
     ]
    }
   ],
   "source": [
    "print(np.sqrt(np.sum(np.square(vector)))) # Estamos calculando la norma L2"
   ]
  },
  {
   "cell_type": "code",
   "execution_count": 17,
   "metadata": {},
   "outputs": [
    {
     "data": {
      "image/png": "[encoded data removed]",
      "text/plain": [
       "<Figure size 640x480 with 1 Axes>"
      ]
     },
     "metadata": {},
     "output_type": "display_data"
    }
   ],
   "source": [
    "# Graficar vector 1,1\n",
    "import matplotlib.pyplot as plt\n",
    "\n",
    "vector = np.array([1,1])\n",
    "\n",
    "plt.quiver(0,0,vector[0],vector[1], angles='xy', scale_units='xy', scale=1)\n",
    "plt.xlim(0,1.5)\n",
    "plt.ylim(0,1.5)\n",
    "\n",
    "plt.axvline(x=0, color='grey')\n",
    "plt.axhline(y=0, color='grey')\n",
    "\n",
    "plt.legend(['Vector [1,1] = 1.41'], loc='upper center')\n",
    "\n",
    "plt.show()"
   ]
  },
  {
   "cell_type": "code",
   "execution_count": 18,
   "metadata": {},
   "outputs": [
    {
     "name": "stdout",
     "output_type": "stream",
     "text": [
      "[1 2 3 4 5 6]\n"
     ]
    }
   ],
   "source": [
    "vector = np.array([1,2,3,4,5,6])\n",
    "print(vector)"
   ]
  },
  {
   "cell_type": "code",
   "execution_count": 19,
   "metadata": {},
   "outputs": [
    {
     "name": "stdout",
     "output_type": "stream",
     "text": [
      "91.0\n"
     ]
    }
   ],
   "source": [
    "print(np.linalg.norm(vector, ord=2)**2)"
   ]
  },
  {
   "cell_type": "code",
   "execution_count": 20,
   "metadata": {},
   "outputs": [
    {
     "name": "stdout",
     "output_type": "stream",
     "text": [
      "91\n"
     ]
    }
   ],
   "source": [
    "print(vector.T.dot(vector)) # Producto punto"
   ]
  },
  {
   "cell_type": "code",
   "execution_count": 21,
   "metadata": {},
   "outputs": [
    {
     "name": "stdout",
     "output_type": "stream",
     "text": [
      "100.0\n"
     ]
    }
   ],
   "source": [
    "vector = np.array([1,2,3,100])\n",
    "print(np.linalg.norm(vector, ord=np.inf)) # Norma infinito"
   ]
  }
 ],
 "metadata": {
  "kernelspec": {
   "display_name": "Platzi-FundamentosAL",
   "language": "python",
   "name": "python3"
  },
  "language_info": {
   "codemirror_mode": {
    "name": "ipython",
    "version": 3
   },
   "file_extension": ".py",
   "mimetype": "text/x-python",
   "name": "python",
   "nbconvert_exporter": "python",
   "pygments_lexer": "ipython3",
   "version": "3.7.16"
  }
 },
 "nbformat": 4,
 "nbformat_minor": 2
}
