{
 "cells": [
  {
   "cell_type": "markdown",
   "metadata": {},
   "source": [
    "Una matriz es ortogonal cuando todas sus filas son mutuamente ortonormales y todas sus columnas son mutuamentes ortonormales, esto si pensamos a las filas y columnas como vectores, estariamos diciendo que v1, v2 y v3, tienen que ser mutuamente ortogonales."
   ]
  },
  {
   "cell_type": "markdown",
   "metadata": {},
   "source": [
    "$$\n",
    "\\begin{pmatrix}\n",
    "\\vec{v_1} \n",
    "\\vec{v_2}\n",
    "\\vec{v_3}\n",
    "\\end{pmatrix}\n",
    "$$"
   ]
  },
  {
   "cell_type": "code",
   "execution_count": 1,
   "metadata": {},
   "outputs": [],
   "source": [
    "import numpy as np"
   ]
  },
  {
   "cell_type": "code",
   "execution_count": 2,
   "metadata": {},
   "outputs": [
    {
     "name": "stdout",
     "output_type": "stream",
     "text": [
      "[[1 0 0]\n",
      " [0 1 0]\n",
      " [0 0 1]]\n"
     ]
    }
   ],
   "source": [
    "matriz = np.array(\n",
    "    [\n",
    "        [1,0,0],\n",
    "        [0,1,0],\n",
    "        [0,0,1]\n",
    "    ]\n",
    ")\n",
    "\n",
    "print(matriz)"
   ]
  },
  {
   "cell_type": "markdown",
   "metadata": {},
   "source": [
    "$$\n",
    "\\begin{pmatrix}\n",
    "\\vec{v_1} \n",
    "\\vec{v_2}\n",
    "\\vec{v_3}\n",
    "\\end{pmatrix}\n",
    "$$\n",
    "\n",
    "$$\n",
    "v_1 \\text{ es ortogonal a } v_2\n",
    "$$\n",
    "$$\n",
    "v_1 \\text{ es ortogonal a } v_3\n",
    "$$\n",
    "$$\n",
    "v_2 \\text{ es ortogonal a } v_3\n",
    "$$"
   ]
  },
  {
   "cell_type": "code",
   "execution_count": null,
   "metadata": {},
   "outputs": [
    {
     "name": "stdout",
     "output_type": "stream",
     "text": [
      "0\n"
     ]
    }
   ],
   "source": [
    "print(matriz[:,0].dot(matriz[:,1])) # v1.v2"
   ]
  },
  {
   "cell_type": "code",
   "execution_count": null,
   "metadata": {},
   "outputs": [
    {
     "name": "stdout",
     "output_type": "stream",
     "text": [
      "0\n"
     ]
    }
   ],
   "source": [
    "print(matriz[:,0].dot(matriz[:,2])) # v1.v3"
   ]
  },
  {
   "cell_type": "code",
   "execution_count": null,
   "metadata": {},
   "outputs": [
    {
     "name": "stdout",
     "output_type": "stream",
     "text": [
      "0\n"
     ]
    }
   ],
   "source": [
    "print(matriz[:,1].dot(matriz[:,2])) # v2.v3"
   ]
  },
  {
   "cell_type": "code",
   "execution_count": 6,
   "metadata": {},
   "outputs": [
    {
     "name": "stdout",
     "output_type": "stream",
     "text": [
      "1.0\n",
      "1.0\n",
      "1.0\n"
     ]
    }
   ],
   "source": [
    "print(np.linalg.norm(matriz[:,0]))\n",
    "print(np.linalg.norm(matriz[:,1]))\n",
    "print(np.linalg.norm(matriz[:,2]))"
   ]
  },
  {
   "cell_type": "markdown",
   "metadata": {},
   "source": [
    "Por lo anterior podemos decir que son ortonormales"
   ]
  },
  {
   "cell_type": "code",
   "execution_count": 7,
   "metadata": {},
   "outputs": [
    {
     "name": "stdout",
     "output_type": "stream",
     "text": [
      "0\n",
      "0\n",
      "0\n"
     ]
    }
   ],
   "source": [
    "# Primer fila y todos los elementos de su columna multiplicados por \n",
    "# la segunda fila y todos los elementos de su columna\n",
    "print(matriz[0,:].dot(matriz[1,:]))\n",
    "print(matriz[0,:].dot(matriz[2,:]))\n",
    "print(matriz[1,:].dot(matriz[2,:]))"
   ]
  },
  {
   "cell_type": "code",
   "execution_count": 8,
   "metadata": {},
   "outputs": [
    {
     "name": "stdout",
     "output_type": "stream",
     "text": [
      "1.0\n",
      "1.0\n",
      "1.0\n"
     ]
    }
   ],
   "source": [
    "print(np.linalg.norm(matriz[0,:]))\n",
    "print(np.linalg.norm(matriz[1,:]))\n",
    "print(np.linalg.norm(matriz[2,:]))"
   ]
  },
  {
   "cell_type": "code",
   "execution_count": 9,
   "metadata": {},
   "outputs": [],
   "source": [
    "# Por definición, la norma de un vector es la raíz cuadrada de la suma de los cuadrados de sus componentes\n",
    "# La norma de un vector es un número no negativo que mide la longitud del vector\n",
    "# La norma de un vector es cero si y solo si el vector es el vector cero"
   ]
  },
  {
   "cell_type": "markdown",
   "metadata": {},
   "source": [
    "Una matriz ortogonal tiene la siguiente propiedad: \n",
    "\n",
    "$A^T * A = A * A^T = Id$\n",
    "\n",
    "$A^T = A^{-1}$"
   ]
  },
  {
   "cell_type": "code",
   "execution_count": 10,
   "metadata": {},
   "outputs": [
    {
     "name": "stdout",
     "output_type": "stream",
     "text": [
      "[[ 0.86231887  0.50636564]\n",
      " [-0.50636564  0.86231887]]\n"
     ]
    }
   ],
   "source": [
    "A = np.array([[np.cos(100), -np.sin(100)], [np.sin(100), np.cos(100)]])\n",
    "\n",
    "print(A)"
   ]
  },
  {
   "cell_type": "code",
   "execution_count": 11,
   "metadata": {},
   "outputs": [
    {
     "name": "stdout",
     "output_type": "stream",
     "text": [
      "Comprobar si es ortogonal\n",
      "0.9999999999999999\n",
      "0.9999999999999999\n",
      "0.9999999999999999\n",
      "0.9999999999999999\n"
     ]
    }
   ],
   "source": [
    "print(\"Comprobar si es ortogonal\")\n",
    "print(np.linalg.norm(A[0,:]))\n",
    "print(np.linalg.norm(A[1,:]))\n",
    "print(np.linalg.norm(A[:,0]))\n",
    "print(np.linalg.norm(A[:,1]))"
   ]
  },
  {
   "cell_type": "code",
   "execution_count": 12,
   "metadata": {},
   "outputs": [
    {
     "name": "stdout",
     "output_type": "stream",
     "text": [
      "0.0\n",
      "0.0\n"
     ]
    }
   ],
   "source": [
    "print(A[0,:].dot(A[1,:]))\n",
    "print(A[:,0].dot(A[:,1]))"
   ]
  },
  {
   "cell_type": "code",
   "execution_count": 13,
   "metadata": {},
   "outputs": [
    {
     "name": "stdout",
     "output_type": "stream",
     "text": [
      "[[1. 0.]\n",
      " [0. 1.]]\n",
      "[[1. 0.]\n",
      " [0. 1.]]\n"
     ]
    }
   ],
   "source": [
    "A_t = A.T\n",
    "print(A_t.dot(A))\n",
    "print(A.dot(A_t))"
   ]
  },
  {
   "cell_type": "code",
   "execution_count": 14,
   "metadata": {},
   "outputs": [
    {
     "name": "stdout",
     "output_type": "stream",
     "text": [
      "[[ 0.86231887 -0.50636564]\n",
      " [ 0.50636564  0.86231887]]\n"
     ]
    }
   ],
   "source": [
    "A_inv = np.linalg.inv(A)\n",
    "print(A_inv)"
   ]
  },
  {
   "cell_type": "code",
   "execution_count": 15,
   "metadata": {},
   "outputs": [
    {
     "name": "stdout",
     "output_type": "stream",
     "text": [
      "[[ 0.86231887 -0.50636564]\n",
      " [ 0.50636564  0.86231887]]\n"
     ]
    }
   ],
   "source": [
    "print(A_t)"
   ]
  },
  {
   "cell_type": "code",
   "execution_count": 16,
   "metadata": {},
   "outputs": [
    {
     "name": "stdout",
     "output_type": "stream",
     "text": [
      "[[ 1. inf]\n",
      " [inf  1.]]\n"
     ]
    },
    {
     "name": "stderr",
     "output_type": "stream",
     "text": [
      "c:\\Users\\kevin\\anaconda3\\envs\\Platzi-FundamentosAL\\lib\\site-packages\\ipykernel_launcher.py:1: RuntimeWarning: divide by zero encountered in true_divide\n",
      "  \"\"\"Entry point for launching an IPython kernel.\n"
     ]
    }
   ],
   "source": [
    "print(1/A.dot(A_inv))"
   ]
  }
 ],
 "metadata": {
  "kernelspec": {
   "display_name": "Platzi-FundamentosAL",
   "language": "python",
   "name": "python3"
  },
  "language_info": {
   "codemirror_mode": {
    "name": "ipython",
    "version": 3
   },
   "file_extension": ".py",
   "mimetype": "text/x-python",
   "name": "python",
   "nbconvert_exporter": "python",
   "pygments_lexer": "ipython3",
   "version": "3.7.16"
  }
 },
 "nbformat": 4,
 "nbformat_minor": 2
}
