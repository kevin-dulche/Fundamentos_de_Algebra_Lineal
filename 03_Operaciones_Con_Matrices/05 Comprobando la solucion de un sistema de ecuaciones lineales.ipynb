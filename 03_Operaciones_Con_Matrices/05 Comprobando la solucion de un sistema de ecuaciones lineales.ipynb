{
 "cells": [
  {
   "cell_type": "code",
   "execution_count": 1,
   "metadata": {},
   "outputs": [],
   "source": [
    "import numpy as np"
   ]
  },
  {
   "cell_type": "code",
   "execution_count": 2,
   "metadata": {},
   "outputs": [],
   "source": [
    "%matplotlib inline"
   ]
  },
  {
   "cell_type": "code",
   "execution_count": 3,
   "metadata": {},
   "outputs": [],
   "source": [
    "import matplotlib.pyplot as plt"
   ]
  },
  {
   "cell_type": "code",
   "execution_count": 5,
   "metadata": {},
   "outputs": [],
   "source": [
    "x = np.arange(-5,5,1)"
   ]
  },
  {
   "cell_type": "code",
   "execution_count": 6,
   "metadata": {},
   "outputs": [],
   "source": [
    "y_1 = 3*x + 5\n",
    "y_2 = 2*x + 3"
   ]
  },
  {
   "cell_type": "code",
   "execution_count": 7,
   "metadata": {},
   "outputs": [
    {
     "data": {
      "image/png": "[encoded data removed]",
      "text/plain": [
       "<Figure size 640x480 with 1 Axes>"
      ]
     },
     "metadata": {},
     "output_type": "display_data"
    }
   ],
   "source": [
    "plt.figure()\n",
    "\n",
    "plt.plot(x, y_1)\n",
    "plt.plot(x, y_2)\n",
    "\n",
    "plt.xlim(-5,5)\n",
    "plt.ylim(-5,5)\n",
    "\n",
    "plt.axvline(x=0, color='grey')\n",
    "plt.axhline(y=0, color='grey')\n",
    "\n",
    "plt.show()"
   ]
  },
  {
   "cell_type": "markdown",
   "metadata": {},
   "source": [
    "### Sistema de Ecuaciones\n",
    "\n",
    "En este Jupyter Notebook, hemos definido dos ecuaciones lineales representadas por las variables `y_1` y `y_2`. Las ecuaciones son las siguientes:\n",
    "\n",
    "* $y_1 = 3x + 5$\n",
    "* $y_2 = 2x + 3$\n",
    "\n",
    "Donde `x` es un arreglo de valores que va desde -5 hasta 4:\n",
    "\n",
    "$ x = \\text{array}([-5, -4, -3, -2, -1, 0, 1, 2, 3, 4]) $\n",
    "\n",
    "Los valores correspondientes de `y_1` y `y_2` son:\n",
    "\n",
    "$ y_1 = \\text{array}([-10, -7, -4, -1, 2, 5, 8, 11, 14, 17]) $\n",
    "\n",
    "$ y_2 = \\text{array}([-7, -5, -3, -1, 1, 3, 5, 7, 9, 11]) $\n",
    "\n",
    "Estas ecuaciones se han graficado en el plano cartesiano utilizando `matplotlib`."
   ]
  },
  {
   "cell_type": "markdown",
   "metadata": {},
   "source": [
    "$-3x + y = 5$\n",
    "\n",
    "$-2x + y = 3$\n",
    "\n",
    "Para escribir el sistema de ecuaciones en forma de matriz, podemos representarlo de la siguiente manera:\n",
    "\n",
    "$$\n",
    "\\begin{pmatrix}\n",
    "-3 & 1 \\\\\n",
    "-2 & 1\n",
    "\\end{pmatrix}\n",
    "\\begin{pmatrix}\n",
    "x \\\\\n",
    "y\n",
    "\\end{pmatrix}\n",
    "=\n",
    "\\begin{pmatrix}\n",
    "5 \\\\\n",
    "3\n",
    "\\end{pmatrix}\n",
    "$$"
   ]
  },
  {
   "cell_type": "code",
   "execution_count": 8,
   "metadata": {},
   "outputs": [
    {
     "name": "stdout",
     "output_type": "stream",
     "text": [
      "[[-3  1]\n",
      " [-2  1]]\n"
     ]
    }
   ],
   "source": [
    "A = np.array(\n",
    "    [\n",
    "        [-3, 1], \n",
    "        [-2, 1]\n",
    "    ]\n",
    ")\n",
    "\n",
    "print(A)"
   ]
  },
  {
   "cell_type": "code",
   "execution_count": 9,
   "metadata": {},
   "outputs": [
    {
     "name": "stdout",
     "output_type": "stream",
     "text": [
      "[[5]\n",
      " [3]]\n"
     ]
    }
   ],
   "source": [
    "b = np.array(\n",
    "    [\n",
    "        [5],\n",
    "        [3]\n",
    "    ]\n",
    ")\n",
    "\n",
    "print(b)"
   ]
  },
  {
   "cell_type": "markdown",
   "metadata": {},
   "source": [
    "$\n",
    "A = \n",
    "\\begin{pmatrix}\n",
    "-3 & 1 \\\\\n",
    "-2 & 1\n",
    "\\end{pmatrix}\n",
    "$\n",
    "\n",
    "x = \n",
    "$\n",
    "\\begin{pmatrix}\n",
    "x \\\\\n",
    "y\n",
    "\\end{pmatrix}\n",
    "$\n",
    "\n",
    "b = \n",
    "$\n",
    "\\begin{pmatrix}\n",
    "5 \\\\\n",
    "3\n",
    "\\end{pmatrix}\n",
    "$\n",
    "\n",
    "$$\n",
    "Ax = b\n",
    "$$"
   ]
  },
  {
   "cell_type": "code",
   "execution_count": 10,
   "metadata": {},
   "outputs": [
    {
     "name": "stdout",
     "output_type": "stream",
     "text": [
      "[-2 -1]\n"
     ]
    }
   ],
   "source": [
    "sol_1 = np.array([-2,-1])\n",
    "print(sol_1)"
   ]
  },
  {
   "cell_type": "code",
   "execution_count": 11,
   "metadata": {},
   "outputs": [
    {
     "name": "stdout",
     "output_type": "stream",
     "text": [
      "[5 3]\n"
     ]
    }
   ],
   "source": [
    "print(A.dot(sol_1))"
   ]
  }
 ],
 "metadata": {
  "kernelspec": {
   "display_name": "Platzi-FundamentosAL",
   "language": "python",
   "name": "python3"
  },
  "language_info": {
   "codemirror_mode": {
    "name": "ipython",
    "version": 3
   },
   "file_extension": ".py",
   "mimetype": "text/x-python",
   "name": "python",
   "nbconvert_exporter": "python",
   "pygments_lexer": "ipython3",
   "version": "3.7.16"
  }
 },
 "nbformat": 4,
 "nbformat_minor": 2
}
